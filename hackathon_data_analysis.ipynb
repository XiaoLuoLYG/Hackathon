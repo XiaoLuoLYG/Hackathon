{
 "cells": [
  {
   "cell_type": "code",
   "execution_count": 8,
   "metadata": {},
   "outputs": [],
   "source": [
    "import pandas as pd\n",
    "import numpy as np\n",
    "import os\n",
    "import csv \n",
    "import datetime\n",
    "from dateutil.relativedelta import relativedelta  \n",
    "from datetime import datetime as dt"
   ]
  },
  {
   "cell_type": "code",
   "execution_count": 9,
   "metadata": {},
   "outputs": [
    {
     "name": "stdout",
     "output_type": "stream",
     "text": [
      "            date        money   money_typ\n",
      "0     2017-01-01 -1923.096440        Food\n",
      "1     2017-01-02   450.484246     Youtube\n",
      "2     2017-01-03 -2103.161264    Shopping\n",
      "3     2017-01-04  1438.913846      Salary\n",
      "4     2017-01-05   -31.045009        Food\n",
      "...          ...          ...         ...\n",
      "1090  2019-12-27 -1196.151069    Shopping\n",
      "1091  2019-12-28   822.706389     Youtube\n",
      "1092  2019-12-29  1474.561401  Investment\n",
      "1093  2019-12-30    41.899178        Gift\n",
      "1094  2019-12-31  1808.048103      Salary\n",
      "\n",
      "[1095 rows x 3 columns]\n"
     ]
    }
   ],
   "source": [
    "filename = 'C:/Users/10513/Downloads/data2.csv'\n",
    "data = pd.read_csv(filename)\n",
    "print(data)"
   ]
  },
  {
   "cell_type": "code",
   "execution_count": 10,
   "metadata": {},
   "outputs": [
    {
     "data": {
      "text/plain": [
       "'\\nincome_type = [\"Salary\", \"Investment\",\"Gift\",\"Other\",\"Youtube\"]\\nexpend_type = [\"Food\", \"Shopping\", \"Transport\", \"Fitness\", \"Entertainment\", \"Social\", \"Travel\"]\\n\\n\\nincomelist = []\\nexpendlist = []\\nfor i in range(1484):\\n    a = np.random.choice(income_type)\\n    incomelist.append(a)\\n    \\nfor j in range(1484):\\n    b = np.random.choice(expend_type)\\n    expendlist.append(b)\\n    \\nprint(len(incomelist))\\n'"
      ]
     },
     "execution_count": 10,
     "metadata": {},
     "output_type": "execute_result"
    }
   ],
   "source": [
    "\"\"\"\n",
    "income_type = [\"Salary\", \"Investment\",\"Gift\",\"Other\",\"Youtube\"]\n",
    "expend_type = [\"Food\", \"Shopping\", \"Transport\", \"Fitness\", \"Entertainment\", \"Social\", \"Travel\"]\n",
    "\n",
    "\n",
    "incomelist = []\n",
    "expendlist = []\n",
    "for i in range(1484):\n",
    "    a = np.random.choice(income_type)\n",
    "    incomelist.append(a)\n",
    "    \n",
    "for j in range(1484):\n",
    "    b = np.random.choice(expend_type)\n",
    "    expendlist.append(b)\n",
    "    \n",
    "print(len(incomelist))\n",
    "\"\"\""
   ]
  },
  {
   "cell_type": "code",
   "execution_count": 11,
   "metadata": {},
   "outputs": [
    {
     "data": {
      "text/plain": [
       "\"# Use the multi-axes indexing funtion\\ndata.insert(data.shape[1], 'Income type', incomelist)\\ndata.insert(data.shape[1], 'Expend type', expendlist)\""
      ]
     },
     "execution_count": 11,
     "metadata": {},
     "output_type": "execute_result"
    }
   ],
   "source": [
    "\"\"\"# Use the multi-axes indexing funtion\n",
    "data.insert(data.shape[1], 'Income type', incomelist)\n",
    "data.insert(data.shape[1], 'Expend type', expendlist)\"\"\"\n"
   ]
  },
  {
   "cell_type": "code",
   "execution_count": 12,
   "metadata": {},
   "outputs": [
    {
     "name": "stdout",
     "output_type": "stream",
     "text": [
      "         date        money   money_typ\n",
      "0  2017-01-01 -1923.096440        Food\n",
      "1  2017-01-02   450.484246     Youtube\n",
      "2  2017-01-03 -2103.161264    Shopping\n",
      "3  2017-01-04  1438.913846      Salary\n",
      "4  2017-01-05   -31.045009        Food\n",
      "5  2017-01-06  1147.704398     Youtube\n",
      "6  2017-01-07   396.116433  Investment\n",
      "7  2017-01-08   147.866878       Other\n",
      "8  2017-01-09 -2484.228568      Travel\n",
      "9  2017-01-10  -511.294807      Travel\n"
     ]
    }
   ],
   "source": [
    "print(data.head(10))"
   ]
  },
  {
   "cell_type": "code",
   "execution_count": 13,
   "metadata": {},
   "outputs": [
    {
     "data": {
      "text/html": [
       "<div>\n",
       "<style scoped>\n",
       "    .dataframe tbody tr th:only-of-type {\n",
       "        vertical-align: middle;\n",
       "    }\n",
       "\n",
       "    .dataframe tbody tr th {\n",
       "        vertical-align: top;\n",
       "    }\n",
       "\n",
       "    .dataframe thead th {\n",
       "        text-align: right;\n",
       "    }\n",
       "</style>\n",
       "<table border=\"1\" class=\"dataframe\">\n",
       "  <thead>\n",
       "    <tr style=\"text-align: right;\">\n",
       "      <th></th>\n",
       "      <th>date</th>\n",
       "      <th>money</th>\n",
       "      <th>money_typ</th>\n",
       "    </tr>\n",
       "  </thead>\n",
       "  <tbody>\n",
       "  </tbody>\n",
       "</table>\n",
       "</div>"
      ],
      "text/plain": [
       "Empty DataFrame\n",
       "Columns: [date, money, money_typ]\n",
       "Index: []"
      ]
     },
     "execution_count": 13,
     "metadata": {},
     "output_type": "execute_result"
    }
   ],
   "source": [
    "data[data[\"date\"]== '2018/1/1']"
   ]
  },
  {
   "cell_type": "code",
   "execution_count": 14,
   "metadata": {},
   "outputs": [],
   "source": [
    "def get_time_year(n):\n",
    "    date_list = []\n",
    "    if n == 2021:\n",
    "        today = datetime.date.today()\n",
    "\n",
    "        year_start_day = datetime.date(today.year, 1, 1)\n",
    "        year_start_day.isoformat()\n",
    "        \n",
    "        year_end_day = today\n",
    "        \n",
    "        date_list = [year_start_day, year_end_day]\n",
    "        \n",
    "    else:\n",
    "        year_start_day = datetime.date(n, 1, 1)\n",
    "        year_start_day.isoformat()\n",
    "        \n",
    "        year_end_day = datetime.date(n+1, 1, 1) - datetime.timedelta(days=1)\n",
    "        year_end_day.isoformat()\n",
    "        date_list = [year_start_day, year_end_day]\n",
    "        \n",
    "    return date_list"
   ]
  },
  {
   "cell_type": "code",
   "execution_count": 15,
   "metadata": {},
   "outputs": [],
   "source": [
    "def get_time_month(y,m):\n",
    "    date_list = []\n",
    "\n",
    "    month_start_day = datetime.date(y, m, 1)\n",
    "    month_start_day.isoformat()\n",
    "\n",
    "    month_end_day = datetime.date(y, m+1, 1) - datetime.timedelta(days=1)\n",
    "    month_end_day.isoformat()\n",
    "    date_list = [month_start_day, month_end_day]\n",
    "        \n",
    "    return date_list"
   ]
  },
  {
   "cell_type": "code",
   "execution_count": 16,
   "metadata": {},
   "outputs": [],
   "source": [
    "def get_time_week(y,m,d):\n",
    "    date_list = []\n",
    "    if m < 10:\n",
    "        a = \"0\"+\"m\"\n",
    "    \n",
    "        if d<10:\n",
    "            b = \"0\"+\"d\"\n",
    "        else:\n",
    "            b = \"d\"\n",
    "    else:\n",
    "        b = \"m\"\n",
    "    daystring = str(y)+str(m)+str(d)\n",
    "    \n",
    "    week=dt.strptime(daystring, \"%Y%m%d\").weekday()\n",
    "    \n",
    "    week_start_day = datetime.date(y, m, d)- datetime.timedelta(days=week)\n",
    "    week_start_day.isoformat()\n",
    "\n",
    "    week_end_day = datetime.date(y, m, d) + datetime.timedelta(days=6-week)\n",
    "    week_end_day.isoformat()\n",
    "    \n",
    "    date_list = [week_start_day, week_end_day]\n",
    "        \n",
    "    return date_list"
   ]
  },
  {
   "cell_type": "code",
   "execution_count": 17,
   "metadata": {},
   "outputs": [],
   "source": [
    "def get_csv_data(date_list):\n",
    "    start = str(date_list[0])\n",
    "    end = str(date_list[1])\n",
    "    s = data[data.date==start].index.tolist()\n",
    "    e = data[data.date==end].index.tolist()\n",
    "    d1 = s + e\n",
    "    date_range = []\n",
    "    for i in range(d1[0],d1[1]+1):\n",
    "        date_range.append(i)\n",
    "        \n",
    "    csv_data = data.loc[date_range,:]\n",
    "    return csv_data"
   ]
  },
  {
   "cell_type": "code",
   "execution_count": 18,
   "metadata": {},
   "outputs": [
    {
     "name": "stdout",
     "output_type": "stream",
     "text": [
      "[datetime.date(2018, 2, 1), datetime.date(2018, 2, 28)]\n",
      "[datetime.date(2018, 12, 3), datetime.date(2018, 12, 9)]\n"
     ]
    }
   ],
   "source": [
    "get_time_year(2018)\n",
    "print(get_time_month(2018,2))\n",
    "print(get_time_week(2018,12,3))"
   ]
  },
  {
   "cell_type": "code",
   "execution_count": 19,
   "metadata": {},
   "outputs": [
    {
     "name": "stdout",
     "output_type": "stream",
     "text": [
      "           date        money      money_typ\n",
      "365  2018-01-01  -579.320926       Shopping\n",
      "366  2018-01-02 -2098.790683  Entertainment\n",
      "367  2018-01-03 -1258.181150  Entertainment\n",
      "368  2018-01-04 -2171.774532      Transport\n",
      "369  2018-01-05   700.428836         Salary\n",
      "370  2018-01-06  1436.263181        Youtube\n",
      "371  2018-01-07  1623.887877         Salary\n"
     ]
    }
   ],
   "source": [
    "date_list = get_time_week(2018,1,1)\n",
    "d1 = get_csv_data(date_list)\n",
    "\n",
    "print(d1)\n"
   ]
  },
  {
   "cell_type": "code",
   "execution_count": 20,
   "metadata": {},
   "outputs": [],
   "source": [
    "def get_type_sum(data):\n",
    "    income_type = [\"Salary\", \"Investment\",\"Gift\",\"Other\",\"Youtube\"]\n",
    "    expend_type = [\"Food\", \"Shopping\", \"Transport\", \"Fitness\", \"Entertainment\", \"Social\", \"Travel\"]\n",
    "\n",
    "    intypesum = {}\n",
    "    extypesum = {}\n",
    "    for i in income_type:\n",
    "        intypesum[i]=data[data.money_typ == i].money.sum()\n",
    "\n",
    "    for _ in expend_type:\n",
    "        extypesum[_]=abs((data[data.money_typ == _]).money.sum())\n",
    "        \n",
    "    return intypesum, extypesum\n",
    "\n"
   ]
  },
  {
   "cell_type": "code",
   "execution_count": 21,
   "metadata": {},
   "outputs": [
    {
     "name": "stdout",
     "output_type": "stream",
     "text": [
      "({'Salary': 2324.3167125564814, 'Investment': 0.0, 'Gift': 0.0, 'Other': 0.0, 'Youtube': 1436.2631806245172}, {'Food': 0.0, 'Shopping': 579.3209264245968, 'Transport': 2171.7745319021624, 'Fitness': 0.0, 'Entertainment': 3356.9718332908396, 'Social': 0.0, 'Travel': 0.0})\n"
     ]
    }
   ],
   "source": [
    "print(get_type_sum(d1))"
   ]
  },
  {
   "cell_type": "code",
   "execution_count": 22,
   "metadata": {},
   "outputs": [
    {
     "name": "stdout",
     "output_type": "stream",
     "text": [
      "3760.5798931809986\n"
     ]
    }
   ],
   "source": [
    "def get_income_sum(data):\n",
    "    income_sum = data[data.money > 0].money.sum()\n",
    "    return income_sum\n",
    "\n",
    "print(get_income_sum(d1))"
   ]
  },
  {
   "cell_type": "code",
   "execution_count": 23,
   "metadata": {},
   "outputs": [
    {
     "name": "stdout",
     "output_type": "stream",
     "text": [
      "6108.067291617599\n"
     ]
    }
   ],
   "source": [
    "def get_expend_sum(data):\n",
    "    income_sum = abs(data[data.money < 0].money).sum()\n",
    "    return income_sum\n",
    "\n",
    "print(get_expend_sum(d1))"
   ]
  },
  {
   "cell_type": "code",
   "execution_count": null,
   "metadata": {},
   "outputs": [],
   "source": []
  }
 ],
 "metadata": {
  "kernelspec": {
   "display_name": "Python 3",
   "language": "python",
   "name": "python3"
  },
  "language_info": {
   "codemirror_mode": {
    "name": "ipython",
    "version": 3
   },
   "file_extension": ".py",
   "mimetype": "text/x-python",
   "name": "python",
   "nbconvert_exporter": "python",
   "pygments_lexer": "ipython3",
   "version": "3.8.5"
  }
 },
 "nbformat": 4,
 "nbformat_minor": 4
}
